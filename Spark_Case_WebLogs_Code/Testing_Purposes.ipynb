{
 "cells": [
  {
   "cell_type": "markdown",
   "metadata": {},
   "source": [
    "# Turkey's range test\n",
    "\n",
    "Confidence limits for Tukey's method\tThe Tukey confidence limits for all pairwise comparisons with confidence coefficient of at least 1−α are:\n",
    "# y¯i∙−y¯j∙±12–√qα;r,N−rσ^ϵ2n−−√i,j=1,…,r;i≠j.\n",
    "Notice that the point estimator and the estimated variance are the same as those for a single pairwise comparison that was illustrated previously. The only difference between the confidence limits for simultaneous comparisons and those for a single comparison is the multiple of the estimated standard deviation.\n",
    "Also note that the sample sizes must be equal when using the studentized range approach.\n",
    "\n",
    "## Example\n",
    "Data\tWe use the data from a previous example.\n",
    "Set of all pairwise comparisons\tThe set of all pairwise comparisons consists of:\n",
    "μ2−μ1,μ3−μ1,μ1−μ4,\n",
    "μ2−μ3,μ2−μ4,μ3−μ4.\n",
    "Confidence intervals for each pair\tAssume we want a confidence coefficient of 95 percent, or 0.95. Since r = 4 and nt = 20, the required percentile of the studentized range distribution is q0.05;4,16. Using the Tukey method for each of the six comparisons yields:\n",
    "0.29≤1.13≤−2.25≤−2.93≤0.13≤0.97≤μ2−μ1μ3−μ1μ1−μ4μ2−μ3μ2−μ4μ3−μ4≤4.47≤5.31≤1.93≤1.25≤4.31≤5.15\n",
    "## Conclusions\t\n",
    "The simultaneous pairwise comparisons indicate that the differences μ1−μ4 and μ2−μ3 are not significantly different from 0 (their confidence intervals include 0), and all the other pairs are significantly different.\n",
    "Unequal sample sizes\tIt is possible to work with unequal sample sizes. In this case, one has to calculate the estimated standard deviation for each pairwise comparison. The Tukey procedure for unequal sample sizes is sometimes referred to as the Tukey-Kramer Method."
   ]
  },
  {
   "cell_type": "code",
   "execution_count": null,
   "metadata": {},
   "outputs": [],
   "source": [
    "# Removing outliers\n",
    "## Here I am capping and flooring using Tukey's method.\n",
    "for i in int_cols:\n",
    "    Q1 = df3[i].quantile(0.05)\n",
    "    Q3 = df3[i].quantile(0.95)\n",
    "    IQR = Q3 - Q1\n",
    "    print(((df3[i] < (Q1 - 1.5 * IQR)) | (df3[i] > (Q3 + 1.5 * IQR))).sum())\n",
    "    high_mask = (df3[i] > (Q3 + 1.5 * IQR))\n",
    "    low_mask = (df3[i] < (Q1 - 1.5 * IQR))\n",
    "    df3[i][high_mask] = (Q3 + 1.5 * IQR)\n",
    "    df3[i][low_mask] = (Q1 - 1.5 * IQR)"
   ]
  },
  {
   "cell_type": "code",
   "execution_count": null,
   "metadata": {},
   "outputs": [],
   "source": [
    "## Examining I8 above. There is only one type of negative value: -1. I'm going to assume this \n",
    "## should be 0.\n",
    "#df3.I8 = df3.I8.apply(lambda x: 0 if x ==-1 else x)"
   ]
  }
 ],
 "metadata": {
  "kernelspec": {
   "display_name": "Python 3",
   "language": "python",
   "name": "python3"
  },
  "language_info": {
   "codemirror_mode": {
    "name": "ipython",
    "version": 3
   },
   "file_extension": ".py",
   "mimetype": "text/x-python",
   "name": "python",
   "nbconvert_exporter": "python",
   "pygments_lexer": "ipython3",
   "version": "3.6.4"
  }
 },
 "nbformat": 4,
 "nbformat_minor": 2
}
